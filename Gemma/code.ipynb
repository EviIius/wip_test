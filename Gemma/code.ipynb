{
 "cells": [
  {
   "cell_type": "code",
   "execution_count": null,
   "metadata": {
    "vscode": {
     "languageId": "plaintext"
    }
   },
   "outputs": [],
   "source": [
    "# Install the following Keras required libraries\n",
    "!pip install -q --upgrade keras-nlp\n",
    "!pip install -q --upgrade keras>=3"
   ]
  },
  {
   "cell_type": "code",
   "execution_count": null,
   "metadata": {
    "vscode": {
     "languageId": "plaintext"
    }
   },
   "outputs": [],
   "source": [
    "import os  # For configuring Kaggle credentials\n",
    "from google.colab import userdata  # (Optional) To retrieve Kaggle credentials from Colab secrets\n",
    "import keras\n",
    "import keras_nlp\n",
    "from IPython.display import HTML, display\n",
    "\n",
    "def set_css():\n",
    "  display(HTML('''\n",
    "    <style>\n",
    "      pre {\n",
    "        white-space: pre-wrap;\n",
    "      }\n",
    "    </style>\n",
    "  '''))\n",
    "\n",
    "get_ipython().events.register('pre_run_cell', set_css)"
   ]
  },
  {
   "cell_type": "code",
   "execution_count": null,
   "metadata": {
    "vscode": {
     "languageId": "plaintext"
    }
   },
   "outputs": [],
   "source": [
    "# Define and instantiate the Gemma model\n",
    "gemma_lm = keras_nlp.models.GemmaCausalLM.from_preset(\"gemma_1.1_instruct_2b_en\")"
   ]
  },
  {
   "cell_type": "code",
   "execution_count": null,
   "metadata": {
    "vscode": {
     "languageId": "plaintext"
    }
   },
   "outputs": [],
   "source": [
    "#Grammar Checking\n",
    "# Example system and user prompts\n",
    "system_prompt = \"\"\"\n",
    "\n",
    "Your task is to be a precise summarization tool for the Model Risk Management team.\n",
    "Assess the provided text for grammatical accuracy and suitability for a formal professional setting.\n",
    "Provide a enhanced version with corrections and improved stylistic flow.\n",
    "\n",
    "\"\"\"\n",
    "user_prompt = \"\"\"\n",
    "\n",
    "Summarize the following text:\n",
    "\n",
    "Central Analytics Support & Enablement (CASE) is our enterprise support platform for the ~20k+ data scientists, data analysts, MLOps engineers, BI developers, etc. at the bank.\n",
    "CASE includes multiple features such as \"CASEY\" chatbot, an intent-driven (i.e. non-Gen AI/non-LLM) chatbot microservice built on MS Copilot Studio.\n",
    "Additionally, CASE includes the Collective Intelligence (CI) framework, conditional ticketing system, and MS Graph-enabled search.\n",
    "All of this enables product and support teams to efficiently address customer needs, manage their product knowledge documentation, and handle product inquiries within a unified platform.\n",
    "\n",
    "\"\"\"\n",
    "\n",
    "# Generate and print the response\n",
    "response = generate_chat_response(system_prompt, user_prompt, max_length=1000)\n",
    "print(response)"
   ]
  }
 ],
 "metadata": {
  "language_info": {
   "name": "python"
  }
 },
 "nbformat": 4,
 "nbformat_minor": 2
}
