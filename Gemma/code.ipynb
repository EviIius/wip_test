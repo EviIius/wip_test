{
 "cells": [
  {
   "cell_type": "code",
   "execution_count": null,
   "metadata": {},
   "outputs": [],
   "source": [
    "def prompt_gemma(system_prompt, user_prompt, max_length=50, temperature=0.7, top_p=0.9):\n",
    "    \"\"\"\n",
    "    Sends a system prompt and user prompt to the Gemma model and retrieves the response.\n",
    "\n",
    "    Args:\n",
    "        system_prompt (str): The context or system message for the model.\n",
    "        user_prompt (str): The input query from the user.\n",
    "        max_length (int): Maximum length of the generated response (default is 50 tokens).\n",
    "        temperature (float): Sampling temperature for randomness in generation (default is 0.7).\n",
    "        top_p (float): Top-p (nucleus) sampling for controlling token probabilities (default is 0.9).\n",
    "\n",
    "    Returns:\n",
    "        str: The generated response from the model.\n",
    "    \"\"\"\n",
    "    # Combine the system prompt and user prompt\n",
    "    prompt_text = f\"{system_prompt}\\n\\n{user_prompt}\"\n",
    "    \n",
    "    # Tokenize the input\n",
    "    inputs = tokenizer(prompt_text, return_tensors=\"pt\").to(device)\n",
    "    \n",
    "    # Generate the response with tuneable parameters\n",
    "    outputs = model.generate(\n",
    "        inputs.input_ids,\n",
    "        max_length=max_length,\n",
    "        temperature=temperature,\n",
    "        top_p=top_p,\n",
    "        pad_token_id=tokenizer.eos_token_id\n",
    "    )\n",
    "    \n",
    "    # Decode and return the model's response\n",
    "    response = tokenizer.decode(outputs[0], skip_special_tokens=True)\n",
    "    return response\n"
   ]
  },
  {
   "cell_type": "code",
   "execution_count": null,
   "metadata": {},
   "outputs": [],
   "source": [
    "# Define the system prompt (context)\n",
    "system_prompt = (\n",
    "    \"You are an expert in construction and engineering. Answer questions with a focus \"\n",
    "    \"on precision, safety guidelines, and industry standards.\"\n",
    ")\n",
    "\n",
    "# Define the user's prompt\n",
    "user_prompt = \"Why is site preparation crucial for construction projects?\"\n",
    "\n",
    "# Call the prompt_gemma function with tuneable parameters\n",
    "response = prompt_gemma(\n",
    "    system_prompt=system_prompt,\n",
    "    user_prompt=user_prompt,\n",
    "    max_length=100,    # Allow for a longer response\n",
    "    temperature=0.6,   # Slightly reduce randomness for more factual answers\n",
    "    top_p=0.8          # Narrow down token selection for more focused output\n",
    ")\n",
    "\n",
    "# Print the model's response\n",
    "print(\"Gemma's Response:\", response)\n"
   ]
  }
 ],
 "metadata": {
  "language_info": {
   "name": "python"
  }
 },
 "nbformat": 4,
 "nbformat_minor": 2
}
