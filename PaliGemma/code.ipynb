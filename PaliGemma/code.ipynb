{
 "cells": [
  {
   "cell_type": "code",
   "execution_count": null,
   "metadata": {},
   "outputs": [],
   "source": [
    "import os  # For configuring Kaggle credentials\n",
    "import keras\n",
    "import keras_nlp\n",
    "from IPython.display import HTML, display\n",
    "import numpy as np\n",
    "import PIL\n",
    "import requests\n",
    "import io\n",
    "import matplotlib\n",
    "import re\n",
    "import matplotlib.pyplot as plt\n",
    "import matplotlib.patches as patches\n",
    "from PIL import Image\n",
    "\n",
    "def set_css():\n",
    "  display(HTML('''\n",
    "    <style>\n",
    "      pre {\n",
    "        white-space: pre-wrap;\n",
    "      }\n",
    "    </style>\n",
    "  '''))\n",
    "\n",
    "get_ipython().events.register('pre_run_cell', set_css)"
   ]
  }
 ],
 "metadata": {
  "kernelspec": {
   "display_name": ".venv",
   "language": "python",
   "name": "python3"
  },
  "language_info": {
   "name": "python",
   "version": "3.12.1"
  }
 },
 "nbformat": 4,
 "nbformat_minor": 2
}
