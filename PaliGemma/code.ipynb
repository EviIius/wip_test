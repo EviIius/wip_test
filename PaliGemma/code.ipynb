{
 "cells": [
  {
   "cell_type": "code",
   "execution_count": null,
   "metadata": {},
   "outputs": [],
   "source": [
    "tokenizer = AutoTokenizer.from_pretrained(\"google/paligemma-3b-mix-224\")\n",
    "model = AutoModelForVision2Seq.from_pretrained(\"google/paligemma-3b-mix-224\")\n",
    "\n",
    "# Load an example image using PIL\n",
    "image = Image.open(\"example_image.jpg\")  # Replace with your image path\n",
    "# Resize the image to the expected size (224x224 for PaliGemma)\n",
    "image = image.resize((224, 224))\n",
    "\n",
    "# Load the feature extractor for image preprocessing\n",
    "feature_extractor = AutoFeatureExtractor.from_pretrained(\"google/paligemma-3b-mix-224\")\n",
    "inputs = feature_extractor(images=image, return_tensors=\"pt\")\n",
    "\n",
    "# Add the textual input for a vision-language task (e.g., image captioning)\n",
    "text = \"What is in this image?\"\n",
    "text_inputs = tokenizer(text, return_tensors=\"pt\")\n",
    "inputs.update(text_inputs)\n",
    "\n",
    "# Forward pass through the model\n",
    "outputs = model(**inputs)\n",
    "\n",
    "# Decode the output to generate text\n",
    "generated_text = tokenizer.decode(outputs.logits.argmax(dim=-1)[0], skip_special_tokens=True)\n",
    "print(\"Generated Output:\", generated_text)\n"
   ]
  }
 ],
 "metadata": {
  "language_info": {
   "name": "python"
  }
 },
 "nbformat": 4,
 "nbformat_minor": 2
}
