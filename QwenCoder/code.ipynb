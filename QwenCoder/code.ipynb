{
 "cells": [
  {
   "cell_type": "code",
   "execution_count": null,
   "metadata": {},
   "outputs": [],
   "source": [
    "# Import necessary libraries\n",
    "from transformers import AutoModelForCausalLM, AutoTokenizer\n",
    "\n",
    "# Specify the path to the local QwenCoder model and tokenizer\n",
    "model_path = \"<path_to_your_qwencoder_model>\"  # Replace with your local model path\n",
    "tokenizer_path = \"<path_to_your_qwencoder_tokenizer>\"  # Replace with your tokenizer path\n",
    "\n",
    "# Load the tokenizer\n",
    "tokenizer = AutoTokenizer.from_pretrained(tokenizer_path)\n",
    "\n",
    "# Load the QwenCoder model\n",
    "model = AutoModelForCausalLM.from_pretrained(model_path)\n",
    "\n",
    "# Define a function to generate responses from QwenCoder\n",
    "def generate_response(system_prompt, user_prompt, max_length=512):\n",
    "    \"\"\"\n",
    "    Generate a response using QwenCoder.\n",
    "\n",
    "    Args:\n",
    "        system_prompt (str): The system prompt providing instructions or context.\n",
    "        user_prompt (str): The user input or query.\n",
    "        max_length (int): Maximum length of the response.\n",
    "\n",
    "    Returns:\n",
    "        str: The generated response.\n",
    "    \"\"\"\n",
    "    # Combine system prompt and user prompt\n",
    "    full_prompt = f\"System: {system_prompt}\\nUser: {user_prompt}\\nAssistant:\"\n",
    "    \n",
    "    # Tokenize the input\n",
    "    inputs = tokenizer(full_prompt, return_tensors=\"pt\", truncation=True)\n",
    "    \n",
    "    # Generate response\n",
    "    outputs = model.generate(**inputs, max_length=max_length, pad_token_id=tokenizer.eos_token_id)\n",
    "    \n",
    "    # Decode and return the response\n",
    "    response = tokenizer.decode(outputs[0], skip_special_tokens=True)\n",
    "    return response.split(\"Assistant:\")[-1].strip()\n",
    "\n",
    "# Example usage\n",
    "system_prompt = \"You are a highly knowledgeable and friendly assistant.\"\n",
    "user_prompt = \"Can you explain how QwenCoder works?\"\n",
    "response = generate_response(system_prompt, user_prompt)\n",
    "print(\"Assistant:\", response)"
   ]
  }
 ],
 "metadata": {
  "language_info": {
   "name": "python"
  }
 },
 "nbformat": 4,
 "nbformat_minor": 2
}
