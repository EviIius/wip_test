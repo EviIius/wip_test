{
 "cells": [
  {
   "cell_type": "code",
   "execution_count": 1,
   "metadata": {},
   "outputs": [
    {
     "data": {
      "application/vnd.jupyter.widget-view+json": {
       "model_id": "0ed8eebe729944378b962e06f4a2d141",
       "version_major": 2,
       "version_minor": 0
      },
      "text/plain": [
       "VBox(children=(HTML(value='<center> <img\\nsrc=https://huggingface.co/front/assets/huggingface_logo-noborder.sv…"
      ]
     },
     "metadata": {},
     "output_type": "display_data"
    }
   ],
   "source": [
    "from huggingface_hub import notebook_login\n",
    "notebook_login()"
   ]
  },
  {
   "cell_type": "code",
   "execution_count": 2,
   "metadata": {},
   "outputs": [
    {
     "name": "stdout",
     "output_type": "stream",
     "text": [
      "NVIDIA GeForce RTX 4080 SUPER\n",
      "Total VRAM: 17.170956288 GB\n"
     ]
    }
   ],
   "source": [
    "import torch\n",
    "from pprint import pprint\n",
    "print(torch.cuda.get_device_name(0))\n",
    "torch.cuda.empty_cache()\n",
    "vram = torch.cuda.get_device_properties(0).total_memory / 1e9\n",
    "print(f\"Total VRAM: {vram} GB\")"
   ]
  },
  {
   "cell_type": "code",
   "execution_count": 3,
   "metadata": {},
   "outputs": [
    {
     "name": "stderr",
     "output_type": "stream",
     "text": [
      "2025-02-26 19:14:19,182 - INFO - Loading tokenizer and models...\n",
      "The `load_in_4bit` and `load_in_8bit` arguments are deprecated and will be removed in the future versions. Please, pass a `BitsAndBytesConfig` object in `quantization_config` argument instead.\n",
      "2025-02-26 19:14:19,950 - INFO - We will use 90% of the memory on device 0 for storing the model, and 10% for the buffer to avoid OOM. You can set `max_memory` in to a higher value to use more memory (at your own risk).\n"
     ]
    },
    {
     "data": {
      "application/vnd.jupyter.widget-view+json": {
       "model_id": "f8db7fc6b78142debe5eca120ad6b998",
       "version_major": 2,
       "version_minor": 0
      },
      "text/plain": [
       "Loading checkpoint shards:   0%|          | 0/2 [00:00<?, ?it/s]"
      ]
     },
     "metadata": {},
     "output_type": "display_data"
    },
    {
     "name": "stderr",
     "output_type": "stream",
     "text": [
      "The `load_in_4bit` and `load_in_8bit` arguments are deprecated and will be removed in the future versions. Please, pass a `BitsAndBytesConfig` object in `quantization_config` argument instead.\n",
      "2025-02-26 19:14:26,498 - INFO - We will use 90% of the memory on device 0 for storing the model, and 10% for the buffer to avoid OOM. You can set `max_memory` in to a higher value to use more memory (at your own risk).\n"
     ]
    },
    {
     "data": {
      "application/vnd.jupyter.widget-view+json": {
       "model_id": "236fe4b7d6e14f8dabd8ae05f401ae32",
       "version_major": 2,
       "version_minor": 0
      },
      "text/plain": [
       "Loading checkpoint shards:   0%|          | 0/2 [00:00<?, ?it/s]"
      ]
     },
     "metadata": {},
     "output_type": "display_data"
    },
    {
     "name": "stderr",
     "output_type": "stream",
     "text": [
      "2025-02-26 19:14:33,078 - INFO - LLaMA 2 model loaded successfully.\n"
     ]
    }
   ],
   "source": [
    "# !pip install faiss-cpu # for vector db\n",
    "# !pip install PyPDF2 # for parsing pdfs\n",
    "# !pip install pandas\n",
    "# !pip install scikit-learn  # For TfidfVectorizer, cosine distance\n",
    "# !pip install langchain # for text splitting\n",
    "# !pip install tqdm # for progress bar\n",
    "# !pip install numpy\n",
    "\n",
    "from typing import Dict, Any, List, Tuple\n",
    "from helpers import (\n",
    "    DocumentProcessor,\n",
    "    VectorStore,\n",
    "    HybridSearcher,\n",
    "    Document,\n",
    "    get_completion,\n",
    "    get_embeddings_batch\n",
    ")\n",
    "import numpy as np\n",
    "from sklearn.metrics.pairwise import cosine_similarity"
   ]
  },
  {
   "cell_type": "code",
   "execution_count": null,
   "metadata": {},
   "outputs": [
    {
     "data": {
      "application/vnd.jupyter.widget-view+json": {
       "model_id": "76633c7f7bbe4a6fb2a635e57d10b56b",
       "version_major": 2,
       "version_minor": 0
      },
      "text/plain": [
       "Loading PDF pages:   0%|          | 0/458 [00:00<?, ?it/s]"
      ]
     },
     "metadata": {},
     "output_type": "display_data"
    },
    {
     "name": "stdout",
     "output_type": "stream",
     "text": [
      "Cleaning extracted text...\n"
     ]
    },
    {
     "data": {
      "application/vnd.jupyter.widget-view+json": {
       "model_id": "37cfcfb1923f4f6190bf93b98b4b42f1",
       "version_major": 2,
       "version_minor": 0
      },
      "text/plain": [
       "Processing chunks:   0%|          | 0/2074 [00:00<?, ?chunk/s]"
      ]
     },
     "metadata": {},
     "output_type": "display_data"
    },
    {
     "name": "stdout",
     "output_type": "stream",
     "text": [
      "Final number of chunks: 2074\n",
      "Creating new index...\n"
     ]
    },
    {
     "data": {
      "application/vnd.jupyter.widget-view+json": {
       "model_id": "5cce226a610d4846b96c515398202bc3",
       "version_major": 2,
       "version_minor": 0
      },
      "text/plain": [
       "Generating embeddings:   0%|          | 0/2074 [00:00<?, ?it/s]"
      ]
     },
     "metadata": {},
     "output_type": "display_data"
    },
    {
     "name": "stdout",
     "output_type": "stream",
     "text": [
      "Saved index with 2074 documents\n",
      "Processed 2074 chunks\n"
     ]
    }
   ],
   "source": [
    "def load_documents(file_path):\n",
    "    # Load and chunk document\n",
    "    text = DocumentProcessor.load_pdf(file_path)\n",
    "    documents = DocumentProcessor.chunk_text(text)\n",
    "    \n",
    "    # Create and return vector store\n",
    "    vector_store = VectorStore()  # HybridSearcher()\n",
    "    vector_store.create_index(documents, force_recreate=True)\n",
    "    print(f\"Processed {len(documents)} chunks\")\n",
    "    \n",
    "    return vector_store\n",
    "\n",
    "##UNCOMMENT THIS TO LOAD MULTIPLE DOCUMENTS##\n",
    "# def load_documents(file_paths: List[str]) -> VectorStore:\n",
    "#     \"\"\"\n",
    "#     Load and chunk multiple PDF documents, then create a combined vector store.\n",
    "\n",
    "#     Args:\n",
    "#         file_paths: List of file paths to PDF documents.\n",
    "\n",
    "#     Returns:\n",
    "#         vector_store: VectorStore containing indexed chunks from all documents.\n",
    "#     \"\"\"\n",
    "#     all_documents = []\n",
    "\n",
    "#     # Process each file\n",
    "#     for file_path in file_paths:\n",
    "#         print(f\"Processing: {file_path}\")\n",
    "#         text = DocumentProcessor.load_pdf(file_path)\n",
    "#         documents = DocumentProcessor.chunk_text(text)\n",
    "#         all_documents.extend(documents)  # Combine all chunks\n",
    "\n",
    "#     # Create and return vector store with all combined documents\n",
    "#     vector_store = VectorStore()  # You can switch to HybridSearcher() if needed\n",
    "#     vector_store.create_index(all_documents, force_recreate=True)\n",
    "#     print(f\"Processed {len(all_documents)} chunks from {len(file_paths)} documents\")\n",
    "\n",
    "    # return vector_store\n",
    "\n",
    "# # List of file paths to process\n",
    "# file_paths = [\n",
    "#     \"WF_benefits_book.pdf\",\n",
    "#     \"another_document.pdf\",\n",
    "#     \"more_documents.pdf\"\n",
    "# ]\n",
    "\n",
    "# # Load and index multiple documents\n",
    "# vector_store = load_documents(file_paths)\n",
    "\n",
    "# For a single document, you can use:\n",
    "vector_store = load_documents(\"WF_benefits_book.pdf\")"
   ]
  },
  {
   "cell_type": "code",
   "execution_count": 5,
   "metadata": {},
   "outputs": [
    {
     "name": "stdout",
     "output_type": "stream",
     "text": [
      "Top 5 Search Results for: What is COBRA?\n",
      "\n",
      "Result 1: (Similarity Score: 0.4822)\n",
      "--------------------------------------------------\n",
      "('E-4 If you have questions E-4 Keep your Plan informed of address changes E-5 '\n",
      " 'Plan contact information E-5 Important information about payment E-5 COBRA '\n",
      " 'administrative information E-5 General information E-5 Coverage and '\n",
      " 'eligibility rights E-5 Primary qualifying events E-6 Your notification '\n",
      " 'responsibilities — primary qualifying events E-6 Length of COBRA '\n",
      " 'continuation coverage E-7 Extending COBRA continuation coverage E-8 Electing '\n",
      " 'COBRA continuation coverage E-8 Summary of Benefits and corrections')\n",
      "--------------------------------------------------\n",
      "\n",
      "Result 2: (Similarity Score: 0.4628)\n",
      "--------------------------------------------------\n",
      "'Changing coverage What changes can you make during the year'\n",
      "--------------------------------------------------\n",
      "\n",
      "Result 3: (Similarity Score: 0.4591)\n",
      "--------------------------------------------------\n",
      "('Appendix D: Leaves of Absence and Your Benefits D-7 === Page 434 === Page '\n",
      " 'intentionally left blank === Page 435 === Appendix E: Continuing Coverage '\n",
      " 'Under COBRA Contents COBRA general notice E-2 Introduction E-2 What is COBRA '\n",
      " 'continuation coverage? E-2 When is COBRA continuation coverage available? '\n",
      " 'E-3 How is COBRA continuation coverage provided? E-3 Are there other '\n",
      " 'coverage options besides COBRA continuation coverage? E-4 Can I enroll in '\n",
      " 'Medicare instead of COBRA continuation coverage after my g')\n",
      "--------------------------------------------------\n",
      "\n",
      "Result 4: (Similarity Score: 0.4543)\n",
      "--------------------------------------------------\n",
      "('Address to submit an order or notice A Medical Child Support Order or '\n",
      " 'National Medical Support Notice should be submitted to: Wells Fargo MAC: '\n",
      " 'N9160-014 DCCOE Ben Admin 1801 Park View Dr. 1st Floor Shoreview, MN '\n",
      " '55126-5030 Determining if the order or notice is qualified The plan '\n",
      " 'administrator delegates Wells Fargo HR Operations Benefits Administration to '\n",
      " 'receive and process the orders')\n",
      "--------------------------------------------------\n",
      "\n",
      "Result 5: (Similarity Score: 0.4495)\n",
      "--------------------------------------------------\n",
      "('The Plan will offer COBRA continuation coverage to qualified beneficiaries '\n",
      " 'only after the COBRA Administrator has been notified that a qualifying event '\n",
      " 'has occurred')\n",
      "--------------------------------------------------\n"
     ]
    }
   ],
   "source": [
    "query = \"What is COBRA?\"\n",
    "results = vector_store.search(query, k=5)\n",
    "results\n",
    "\n",
    "print(\"Top 5 Search Results for:\", query)\n",
    "for idx, (doc, score) in enumerate(results, start=1):\n",
    "    print(f\"\\nResult {idx}: (Similarity Score: {score:.4f})\")\n",
    "    print(\"-\" * 50)\n",
    "    # Display a snippet of the document content\n",
    "    snippet = doc.content[:500]\n",
    "    pprint(snippet)\n",
    "    print(\"-\" * 50)"
   ]
  },
  {
   "cell_type": "code",
   "execution_count": 6,
   "metadata": {},
   "outputs": [
    {
     "name": "stderr",
     "output_type": "stream",
     "text": [
      "Asking to truncate to max_length but no maximum length is provided and the model has no predefined maximum length. Default to no truncation.\n"
     ]
    },
    {
     "name": "stdout",
     "output_type": "stream",
     "text": [
      "\n",
      "    You are a helpful assistant specialized in extracting information from documents.\n",
      "\n",
      "    I have the following question:\n",
      "    \"What is COBRA?\"\n",
      "\n",
      "    Here are the relevant document contents:\n",
      "    E-4 If you have questions E-4 Keep your Plan informed of address changes E-5 Plan contact information E-5 Important information about payment E-5 COBRA administrative information E-5 General information E-5 Coverage and eligibility rights E-5 Primary qualifying events E-6 Your notification responsibilities — primary qualifying events E-6 Length of COBRA continuation coverage E-7 Extending COBRA continuation coverage E-8 Electing COBRA continuation coverage E-8 Summary of Benefits and corrections E-8 Cost of COBRA continuation coverage E-8 Payment of COBRA continuation coverage E-9 Changing COBRA continuation coverage E-11 Coordination of COBRA continuation coverage E-11 End of COBRA continuation coverage E-12 For more information E-12 Keep your Plan informed of address changes E-12 Plan contact information E-12 Notice regarding state continuation of coverage E-12 Notice to individuals covered under a fully insured California health plan E-12 Appendix E: Continuing Coverage Under COBRA v1.0 E-1 === Page 436 === Federal law requires that the Wells Fargo group health plans give qualified beneficiaries the opportunity to continue their health care coverage when there is a qualifying event that causes a loss of coverage under the applicable Wells Fargo group health plan (the Plan)\n",
      "Changing coverage What changes can you make during the year\n",
      "Appendix D: Leaves of Absence and Your Benefits D-7 === Page 434 === Page intentionally left blank === Page 435 === Appendix E: Continuing Coverage Under COBRA Contents COBRA general notice E-2 Introduction E-2 What is COBRA continuation coverage? E-2 When is COBRA continuation coverage available? E-3 How is COBRA continuation coverage provided? E-3 Are there other coverage options besides COBRA continuation coverage? E-4 Can I enroll in Medicare instead of COBRA continuation coverage after my group health plan coverage ends\n",
      "Address to submit an order or notice A Medical Child Support Order or National Medical Support Notice should be submitted to: Wells Fargo MAC: N9160-014 DCCOE Ben Admin 1801 Park View Dr. 1st Floor Shoreview, MN 55126-5030 Determining if the order or notice is qualified The plan administrator delegates Wells Fargo HR Operations Benefits Administration to receive and process the orders\n",
      "The Plan will offer COBRA continuation coverage to qualified beneficiaries only after the COBRA Administrator has been notified that a qualifying event has occurred\n",
      "\n",
      "    Please provide a concise and accurate answer to the question based on the contents above.\n",
      "    Only use the information present in the contents. If no relevant information is found, respond with \"No\".\n",
      "\n",
      "    Answer:\n",
      "     COBRA stands for the Consolidated Omnibus Budget Reconciliation Act of 1985, which is a federal law that provides continuation of health coverage for employees and their dependents when a qualifying event occurs, such as job loss or reduction in hours. Under COBRA, the former employer or group health plan administrator must offer the continuation coverage to the qualified beneficiaries for a limited time, usually up to 18 months.\n"
     ]
    },
    {
     "data": {
      "text/plain": [
       "'\\n    You are a helpful assistant specialized in extracting information from documents.\\n\\n    I have the following question:\\n    \"What is COBRA?\"\\n\\n    Here are the relevant document contents:\\n    E-4 If you have questions E-4 Keep your Plan informed of address changes E-5 Plan contact information E-5 Important information about payment E-5 COBRA administrative information E-5 General information E-5 Coverage and eligibility rights E-5 Primary qualifying events E-6 Your notification responsibilities — primary qualifying events E-6 Length of COBRA continuation coverage E-7 Extending COBRA continuation coverage E-8 Electing COBRA continuation coverage E-8 Summary of Benefits and corrections E-8 Cost of COBRA continuation coverage E-8 Payment of COBRA continuation coverage E-9 Changing COBRA continuation coverage E-11 Coordination of COBRA continuation coverage E-11 End of COBRA continuation coverage E-12 For more information E-12 Keep your Plan informed of address changes E-12 Plan contact information E-12 Notice regarding state continuation of coverage E-12 Notice to individuals covered under a fully insured California health plan E-12 Appendix E: Continuing Coverage Under COBRA v1.0 E-1 === Page 436 === Federal law requires that the Wells Fargo group health plans give qualified beneficiaries the opportunity to continue their health care coverage when there is a qualifying event that causes a loss of coverage under the applicable Wells Fargo group health plan (the Plan)\\nChanging coverage What changes can you make during the year\\nAppendix D: Leaves of Absence and Your Benefits D-7 === Page 434 === Page intentionally left blank === Page 435 === Appendix E: Continuing Coverage Under COBRA Contents COBRA general notice E-2 Introduction E-2 What is COBRA continuation coverage? E-2 When is COBRA continuation coverage available? E-3 How is COBRA continuation coverage provided? E-3 Are there other coverage options besides COBRA continuation coverage? E-4 Can I enroll in Medicare instead of COBRA continuation coverage after my group health plan coverage ends\\nAddress to submit an order or notice A Medical Child Support Order or National Medical Support Notice should be submitted to: Wells Fargo MAC: N9160-014 DCCOE Ben Admin 1801 Park View Dr. 1st Floor Shoreview, MN 55126-5030 Determining if the order or notice is qualified The plan administrator delegates Wells Fargo HR Operations Benefits Administration to receive and process the orders\\nThe Plan will offer COBRA continuation coverage to qualified beneficiaries only after the COBRA Administrator has been notified that a qualifying event has occurred\\n\\n    Please provide a concise and accurate answer to the question based on the contents above.\\n    Only use the information present in the contents. If no relevant information is found, respond with \"No\".\\n\\n    Answer:\\n     COBRA stands for the Consolidated Omnibus Budget Reconciliation Act of 1985, which is a federal law that provides continuation of health coverage for employees and their dependents when a qualifying event occurs, such as job loss or reduction in hours. Under COBRA, the former employer or group health plan administrator must offer the continuation coverage to the qualified beneficiaries for a limited time, usually up to 18 months.'"
      ]
     },
     "execution_count": 6,
     "metadata": {},
     "output_type": "execute_result"
    }
   ],
   "source": [
    "def query(question: str, vector_store, top_k: int = 5) -> str:\n",
    "    \"\"\"\n",
    "    Process a question and return an answer with sources.\n",
    "\n",
    "    Args:\n",
    "        question: User's question\n",
    "        vector_store: Indexed document store\n",
    "        top_k: Number of relevant chunks to retrieve\n",
    "\n",
    "    Returns:\n",
    "        Answer string\n",
    "    \"\"\"\n",
    "    # Get relevant chunks\n",
    "    relevant_chunks = vector_store.search(question, k=top_k)\n",
    "    contents = \"\\n\".join([x[0].content for x in relevant_chunks])\n",
    "\n",
    "    prompt = f\"\"\"\n",
    "    You are a helpful assistant specialized in extracting information from documents.\n",
    "\n",
    "    I have the following question:\n",
    "    \"{question}\"\n",
    "\n",
    "    Here are the relevant document contents:\n",
    "    {contents}\n",
    "\n",
    "    Please provide a concise and accurate answer to the question based on the contents above.\n",
    "    Only use the information present in the contents. If no relevant information is found, respond with \"No\".\n",
    "\n",
    "    Answer:\n",
    "    \"\"\"\n",
    "\n",
    "    # Call the completion function\n",
    "    response = get_completion(prompt)\n",
    "    print(response)\n",
    "\n",
    "    # Clear GPU memory and force context termination\n",
    "    torch.cuda.empty_cache()\n",
    "    torch.cuda.synchronize()\n",
    "    del prompt, contents, relevant_chunks  # Clear variables from memory\n",
    "\n",
    "    return response  # Explicitly return the result to end the function\n",
    "\n",
    "\n",
    "\n",
    "query(\"What is COBRA?\", vector_store)\n"
   ]
  },
  {
   "cell_type": "code",
   "execution_count": 7,
   "metadata": {},
   "outputs": [
    {
     "name": "stdout",
     "output_type": "stream",
     "text": [
      "\n",
      "Answer: You are a helpful assistant.\n",
      "    Answer the question based on the context. If the answer isn't in the context, say so.\n",
      "\n",
      "    Question: How does Wells Fargos benefits compare to Vanguard?\n",
      "\n",
      "    Context:\n",
      "    [1] For more information about employment classifications, refer to the “Who’s eligible to enroll” section on page 1-5 . Benefit plan options available to regular and fixed term employees Wells Fargo sponsors a number of benefit plans providing certain benefits to regular and fixed term employees. Some plans may offer more than one type of benefit option/n/n[2] In addition, the health savings account that may be set up separately is not a Wells Fargo-sponsored plan and is not subject to ERISA. For more information on the health savings accounts, refer to “Appendix C: Health Savings Accounts.” Employment classifications Employment classifications determine eligibility for most benefits programs, as well as rates for certain benefit plan options. Employment classifications in Workday include worker type, employee type, and time types. See the “Who’s eligible to enroll” section on page 1-5 for more information/n/n[3] Changing coverage What changes can you make during the year/n/n[4] payroll and travelling on approved Wells Fargo business outside of the United States. In addition, you must be enrolled in a Wells Fargo medical option or show that you have other major medical coverage such as coverage through your spouse’s employer’s plan that is considered “minimum essential coverage” under the Affordable Care Act. Interns, flexible employees, and dependents are not eligible for coverage. Also, employees on an “international assignment” in a country other than the United States, and have an “international assignment agreement” in force are not eligible for coverage. Individuals who work for Wells Fargo are assigned a worker type within the Human Capital Management System (HCMS), also known as Workday; they are either an employee or a contingent resource. Only employees are eligible to participate in the employee benefit plans/n/n[5] You will need to make sure to update any personal home address changes after your initial enrollment with Optum Bank. You are responsible for notifying Optum Bank directly of any changes and for all maintenance of the HSA. Wells Fargo pays the monthly service fee for the HSA as long as you are enrolled in a Wells Fargo HSA-compatible medical plan. The HSA must be opened through the Wells Fargo-designated HSA administrator, Optum Bank. Wells Fargo does not pay other fees associated with the HSA, as outlined in the Schedule of Fees and Custodial and Deposit Agreement provided in your welcome kit or available on the Optum Bank website at https://www.optumbank. com . You will be responsible for the monthly service fee and all other fees for your HSA if you are no longer enrolled in a Wells Fargo HSA-compatible medical plan/n/n[6] This program is completely voluntary and is offered at no additional charge as part of the wellness program. For more information see the “Quit For Life®” section on page 2-36/n/n[7] Plan number The plan number for the Wells Fargo & Company Global Business Travel and Accident Plan is 545. Plan sponsor Wells Fargo & Company is the plan sponsor. Please use the address below for any correspondence to the plan sponsor and include the plan name and plan number in your correspondence: Wells Fargo & Company MAC A0101-121 420 Montgomery St/n/n[8] The eligible compensation amount is maintained by Human Resources (HR) and this determination shall be conclusive. As a general rule, this amount is outlined by pay category as described below. The corresponding job class assignment for each pay category is also listed below. Job class codes are assigned by Wells Fargo Rewards and Performance Management. Find your medical eligible compensation on Workday by navigating to View profile, then Actions, then Benefits, and then View Benefits Annual Rate. • For Annual Benefits Enrollment elections Your eligible compensation for your medical premium compensation category is determined for the next plan year at Annual Benefits Enrollment based on salary and payroll information on October 1 of the current plan year/n/n[9] • Wells Fargo & Company Health Plan – Flexible High Deductible Health Plan (Flex HDHP) if you live in the 48 contiguous states or Alaska – POS Kaiser Added Choice – Hawaii plan if you live in Hawaii • Wells Fargo & Company Employee Assistance Program Interns and flexible employees are not eligible for any other benefit plans or benefit options described in this Benefits Book. 1. Including Out of Area. 2. The health savings account you set up separately is not a Wells Fargo- sponsored plan. For more information on the health savings account, refer to “Appendix C: Health Savings Accounts.” 3. Eligibility for the Local Copay Plan with HRA and Kaiser medical plans is limited to regular and fixed term employees whose permanent residential address is within the applicable service area/n/n[10] Benefits, Attn Employee Assistance Consulting Wells Fargo & Company MAC N9310-110 550 S. 4th St. Minneapolis, MN 55415 Corporate Benefits cannot accept requests sent by fax or email. Before you send a request to Corporate Benefits for review, E AC must have already reviewed your request. Regardless of the timing of your interaction with EAC, Corporate Benefits must receive your written request for review within 120 days from the date of the event when you were denied access to EAP benefits or from the date your coverage was terminated in error. Any requests received after 120 days will not be reviewed\n",
      "\n",
      "    Answer: Wells Fargo's benefits compare to Vanguard in terms of employment classifications, eligibility, and coverage options. Wells Fargo offers a range of benefit plans for regular and fixed-term employees, including health savings accounts, while Vanguard does not offer any benefit plans. Wells Fargo's benefits are also more comprehensive, with more coverage options available for employees, including international coverage. Additionally, Wells Fargo's benefits are more flexible, with employees able to make changes to their coverage during the year. Vanguard's benefits, on the other hand, are less flexible and have more limited coverage options.\n",
      "\n",
      "It's worth noting that Wells Fargo's benefits are only available to employees, while Vanguard's benefits are available to both employees and dependents. Additionally, Wells Fargo's benefits are more expensive than Vanguard's benefits, with higher monthly premiums for medical coverage.\n",
      "\n",
      "In summary, Wells Fargo's benefits are more comprehensive and flexible than Vanguard's benefits, but are also more expensive.\n",
      "\n",
      "Sources:\n",
      "\n",
      "[1] Relevance score: 0.51\n",
      "Preview: For more information about employment classifications, refer to the “Who’s eligible to enroll” section on page 1-5 . Benefit plan options available to regular and fixed term employees Wells Fargo sponsors a number of benefit plans providing certain benefits to regular and fixed term employees. Some plans may offer more than one type of benefit option\n",
      "\n",
      "[2] Relevance score: 0.51\n",
      "Preview: In addition, the health savings account that may be set up separately is not a Wells Fargo-sponsored plan and is not subject to ERISA. For more information on the health savings accounts, refer to “Appendix C: Health Savings Accounts.” Employment classifications Employment classifications determine eligibility for most benefits programs, as well as rates for certain benefit plan options. Employment classifications in Workday include worker type, employee type, and time types. See the “Who’s eligible to enroll” section on page 1-5 for more information\n",
      "\n",
      "[3] Relevance score: 0.51\n",
      "Preview: Changing coverage What changes can you make during the year\n",
      "\n",
      "[4] Relevance score: 0.51\n",
      "Preview: payroll and travelling on approved Wells Fargo business outside of the United States. In addition, you must be enrolled in a Wells Fargo medical option or show that you have other major medical coverage such as coverage through your spouse’s employer’s plan that is considered “minimum essential coverage” under the Affordable Care Act. Interns, flexible employees, and dependents are not eligible for coverage. Also, employees on an “international assignment” in a country other than the United States, and have an “international assignment agreement” in force are not eligible for coverage. Individuals who work for Wells Fargo are assigned a worker type within the Human Capital Management System (HCMS), also known as Workday; they are either an employee or a contingent resource. Only employees are eligible to participate in the employee benefit plans\n",
      "\n",
      "[5] Relevance score: 0.50\n",
      "Preview: You will need to make sure to update any personal home address changes after your initial enrollment with Optum Bank. You are responsible for notifying Optum Bank directly of any changes and for all maintenance of the HSA. Wells Fargo pays the monthly service fee for the HSA as long as you are enrolled in a Wells Fargo HSA-compatible medical plan. The HSA must be opened through the Wells Fargo-designated HSA administrator, Optum Bank. Wells Fargo does not pay other fees associated with the HSA, as outlined in the Schedule of Fees and Custodial and Deposit Agreement provided in your welcome kit or available on the Optum Bank website at https://www.optumbank. com . You will be responsible for the monthly service fee and all other fees for your HSA if you are no longer enrolled in a Wells Fargo HSA-compatible medical plan\n",
      "\n",
      "[6] Relevance score: 0.50\n",
      "Preview: This program is completely voluntary and is offered at no additional charge as part of the wellness program. For more information see the “Quit For Life®” section on page 2-36\n",
      "\n",
      "[7] Relevance score: 0.50\n",
      "Preview: Plan number The plan number for the Wells Fargo & Company Global Business Travel and Accident Plan is 545. Plan sponsor Wells Fargo & Company is the plan sponsor. Please use the address below for any correspondence to the plan sponsor and include the plan name and plan number in your correspondence: Wells Fargo & Company MAC A0101-121 420 Montgomery St\n",
      "\n",
      "[8] Relevance score: 0.50\n",
      "Preview: The eligible compensation amount is maintained by Human Resources (HR) and this determination shall be conclusive. As a general rule, this amount is outlined by pay category as described below. The corresponding job class assignment for each pay category is also listed below. Job class codes are assigned by Wells Fargo Rewards and Performance Management. Find your medical eligible compensation on Workday by navigating to View profile, then Actions, then Benefits, and then View Benefits Annual Rate. • For Annual Benefits Enrollment elections Your eligible compensation for your medical premium compensation category is determined for the next plan year at Annual Benefits Enrollment based on salary and payroll information on October 1 of the current plan year\n",
      "\n",
      "[9] Relevance score: 0.50\n",
      "Preview: • Wells Fargo & Company Health Plan – Flexible High Deductible Health Plan (Flex HDHP) if you live in the 48 contiguous states or Alaska – POS Kaiser Added Choice – Hawaii plan if you live in Hawaii • Wells Fargo & Company Employee Assistance Program Interns and flexible employees are not eligible for any other benefit plans or benefit options described in this Benefits Book. 1. Including Out of Area. 2. The health savings account you set up separately is not a Wells Fargo- sponsored plan. For more information on the health savings account, refer to “Appendix C: Health Savings Accounts.” 3. Eligibility for the Local Copay Plan with HRA and Kaiser medical plans is limited to regular and fixed term employees whose permanent residential address is within the applicable service area\n",
      "\n",
      "[10] Relevance score: 0.50\n",
      "Preview: Benefits, Attn Employee Assistance Consulting Wells Fargo & Company MAC N9310-110 550 S. 4th St. Minneapolis, MN 55415 Corporate Benefits cannot accept requests sent by fax or email. Before you send a request to Corporate Benefits for review, E AC must have already reviewed your request. Regardless of the timing of your interaction with EAC, Corporate Benefits must receive your written request for review within 120 days from the date of the event when you were denied access to EAP benefits or from the date your coverage was terminated in error. Any requests received after 120 days will not be reviewed\n"
     ]
    }
   ],
   "source": [
    "def get_relevant_chunks(\n",
    "    question,\n",
    "    vector_store,\n",
    "    top_k = 3):\n",
    "    \"\"\"\n",
    "    Retrieve relevant document chunks for a question\n",
    "    Args:\n",
    "        question: User's question\n",
    "        vector_store: Indexed document store\n",
    "        top_k: Number of chunks to retrieve\n",
    "    Returns:\n",
    "        List of (document, relevance_score) tuples\n",
    "    \"\"\"\n",
    "    return vector_store.search(question, k=top_k)\n",
    "\n",
    "def generate_answer(\n",
    "    question,\n",
    "    relevant_chunks):\n",
    "    \"\"\"\n",
    "    Generate an answer using retrieved chunks\n",
    "    Args:\n",
    "        question: User's question\n",
    "        relevant_chunks: List of relevant documents and their scores\n",
    "    Returns:\n",
    "        Generated answer\n",
    "    \"\"\"\n",
    "    # Format context from relevant chunks\n",
    "    contexts = [\n",
    "        f\"[{i}] {doc.content}\"\n",
    "        for i, (doc, _) in enumerate(relevant_chunks, 1)\n",
    "    ]\n",
    "    \n",
    "    prompt = f\"\"\"You are a helpful assistant.\n",
    "    Answer the question based on the context. If the answer isn't in the context, say so.\n",
    "\n",
    "    Question: {question}\n",
    "\n",
    "    Context:\n",
    "    {\"/n/n\".join(contexts)}\n",
    "\n",
    "    Answer:\"\"\"\n",
    "    \n",
    "    return get_completion(prompt)\n",
    "\n",
    "def query(\n",
    "    question,\n",
    "    vector_store,\n",
    "    top_k = 10):\n",
    "    \"\"\"\n",
    "    Process a question and return an answer with sources\n",
    "    Args:\n",
    "        question: User's question\n",
    "        vector_store: Indexed document store\n",
    "        top_k: Number of relevant chunks to retrieve\n",
    "    Returns:\n",
    "        Dictionary containing answer and sources\n",
    "    \"\"\"\n",
    "    # Get relevant chunks\n",
    "    relevant_chunks = get_relevant_chunks(question, vector_store, top_k)\n",
    "    \n",
    "    # Generate answer\n",
    "    answer = generate_answer(question, relevant_chunks)\n",
    "    \n",
    "    # Format and return response\n",
    "    return answer, relevant_chunks\n",
    "\n",
    "question = \"How does Wells Fargos benefits compare to Vanguard?\"\n",
    "answer, relevant_chunks = query(question, vector_store, top_k=10)\n",
    "\n",
    "print(\"\\nAnswer:\", answer)\n",
    "\n",
    "# Print sources\n",
    "print(\"\\nSources:\")\n",
    "for i, source in enumerate(relevant_chunks, 1):\n",
    "    print(f\"\\n[{i}] Relevance score: {relevant_chunks[i-1][1]:.2f}\")\n",
    "    print(f\"Preview: {relevant_chunks[i-1][0].content}\")\n"
   ]
  }
 ],
 "metadata": {
  "kernelspec": {
   "display_name": ".venv",
   "language": "python",
   "name": "python3"
  },
  "language_info": {
   "codemirror_mode": {
    "name": "ipython",
    "version": 3
   },
   "file_extension": ".py",
   "mimetype": "text/x-python",
   "name": "python",
   "nbconvert_exporter": "python",
   "pygments_lexer": "ipython3",
   "version": "3.12.1"
  }
 },
 "nbformat": 4,
 "nbformat_minor": 2
}
