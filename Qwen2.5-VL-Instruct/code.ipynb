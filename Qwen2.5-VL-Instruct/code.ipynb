{
 "cells": [
  {
   "cell_type": "code",
   "execution_count": null,
   "metadata": {},
   "outputs": [],
   "source": [
    "from transformers import AutoModelForCausalLM, AutoTokenizer\n",
    "\n",
    "# Load the model and tokenizer\n",
    "model_name = \"path_to_your_local_qwen2-vl-instruct\"  # Update with your local path\n",
    "tokenizer = AutoTokenizer.from_pretrained(model_name, trust_remote_code=True)\n",
    "model = AutoModelForCausalLM.from_pretrained(model_name, trust_remote_code=True).eval()\n",
    "\n",
    "# Function to generate responses\n",
    "def generate_response(system_prompt, user_prompt):\n",
    "    \"\"\"\n",
    "    Function to generate responses using qwen2-vl-instruct model.\n",
    "    \"\"\"\n",
    "    inputs = tokenizer(\n",
    "        f\"<s>[INST] <<SYS>>\\n{system_prompt}\\n<</SYS>>\\n{user_prompt} [/INST]\", \n",
    "        return_tensors=\"pt\"\n",
    "    )\n",
    "    outputs = model.generate(**inputs, max_new_tokens=256)\n",
    "    response = tokenizer.decode(outputs[0], skip_special_tokens=True)\n",
    "    return response\n",
    "\n",
    "# Example usage\n",
    "# Define system prompt and user prompt\n",
    "system_prompt = \"You are an AI assistant specializing in construction safety and environmental considerations.\"\n",
    "user_prompt = \"How can proper site preparation improve safety on a construction site?\"\n",
    "\n",
    "# Generate response\n",
    "response = generate_response(system_prompt, user_prompt)\n",
    "\n",
    "# Display the result\n",
    "print(\"Response:\", response)"
   ]
  }
 ],
 "metadata": {
  "language_info": {
   "name": "python"
  }
 },
 "nbformat": 4,
 "nbformat_minor": 2
}
